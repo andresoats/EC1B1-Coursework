{
 "cells": [
  {
   "cell_type": "code",
   "execution_count": 2,
   "id": "ac82476d",
   "metadata": {},
   "outputs": [
    {
     "data": {
      "text/html": [
       "<div>\n",
       "<style scoped>\n",
       "    .dataframe tbody tr th:only-of-type {\n",
       "        vertical-align: middle;\n",
       "    }\n",
       "\n",
       "    .dataframe tbody tr th {\n",
       "        vertical-align: top;\n",
       "    }\n",
       "\n",
       "    .dataframe thead th {\n",
       "        text-align: right;\n",
       "    }\n",
       "</style>\n",
       "<table border=\"1\" class=\"dataframe\">\n",
       "  <thead>\n",
       "    <tr style=\"text-align: right;\">\n",
       "      <th></th>\n",
       "      <th>0</th>\n",
       "      <th>1</th>\n",
       "      <th>2</th>\n",
       "      <th>3</th>\n",
       "    </tr>\n",
       "  </thead>\n",
       "  <tbody>\n",
       "    <tr>\n",
       "      <th>Unnamed: 0</th>\n",
       "      <td>Spain, Economic Activity, Industrial Productio...</td>\n",
       "      <td>Spain, Exchange Rates, US Dollar per Domestic ...</td>\n",
       "      <td>Spain, International Reserves and Liquidity, R...</td>\n",
       "      <td>Spain, Prices, Consumer Price Index, All items...</td>\n",
       "    </tr>\n",
       "    <tr>\n",
       "      <th>Jan 1960</th>\n",
       "      <td>NaN</td>\n",
       "      <td>0.016667</td>\n",
       "      <td>233.0</td>\n",
       "      <td>2.857368</td>\n",
       "    </tr>\n",
       "    <tr>\n",
       "      <th>Feb 1960</th>\n",
       "      <td>NaN</td>\n",
       "      <td>0.016667</td>\n",
       "      <td>253.0</td>\n",
       "      <td>2.855049</td>\n",
       "    </tr>\n",
       "    <tr>\n",
       "      <th>Mar 1960</th>\n",
       "      <td>NaN</td>\n",
       "      <td>0.016667</td>\n",
       "      <td>299.0</td>\n",
       "      <td>2.851573</td>\n",
       "    </tr>\n",
       "    <tr>\n",
       "      <th>Apr 1960</th>\n",
       "      <td>NaN</td>\n",
       "      <td>0.016667</td>\n",
       "      <td>326.0</td>\n",
       "      <td>2.853891</td>\n",
       "    </tr>\n",
       "  </tbody>\n",
       "</table>\n",
       "</div>"
      ],
      "text/plain": [
       "                                                            0  \\\n",
       "Unnamed: 0  Spain, Economic Activity, Industrial Productio...   \n",
       "Jan 1960                                                  NaN   \n",
       "Feb 1960                                                  NaN   \n",
       "Mar 1960                                                  NaN   \n",
       "Apr 1960                                                  NaN   \n",
       "\n",
       "                                                            1  \\\n",
       "Unnamed: 0  Spain, Exchange Rates, US Dollar per Domestic ...   \n",
       "Jan 1960                                             0.016667   \n",
       "Feb 1960                                             0.016667   \n",
       "Mar 1960                                             0.016667   \n",
       "Apr 1960                                             0.016667   \n",
       "\n",
       "                                                            2  \\\n",
       "Unnamed: 0  Spain, International Reserves and Liquidity, R...   \n",
       "Jan 1960                                                233.0   \n",
       "Feb 1960                                                253.0   \n",
       "Mar 1960                                                299.0   \n",
       "Apr 1960                                                326.0   \n",
       "\n",
       "                                                            3  \n",
       "Unnamed: 0  Spain, Prices, Consumer Price Index, All items...  \n",
       "Jan 1960                                             2.857368  \n",
       "Feb 1960                                             2.855049  \n",
       "Mar 1960                                             2.851573  \n",
       "Apr 1960                                             2.853891  "
      ]
     },
     "execution_count": 2,
     "metadata": {},
     "output_type": "execute_result"
    }
   ],
   "source": [
    "import pandas as pd\n",
    "spain_data = pd.read_excel('Spain_Data.xlsx')\n",
    "spain_data = spain_data.transpose()\n",
    "spain_data.head()"
   ]
  },
  {
   "cell_type": "markdown",
   "id": "16994945",
   "metadata": {},
   "source": [
    "Performing a hypothesis test to assess whether there is evidence that the average level of nominal exchange rates changed post Bretton Woods"
   ]
  },
  {
   "cell_type": "code",
   "execution_count": 3,
   "id": "19bed7b6",
   "metadata": {},
   "outputs": [
    {
     "name": "stdout",
     "output_type": "stream",
     "text": [
      "Bretton Woods average = x1 = 0.01590752241354327\n",
      "Post Bretton Woods average = x2 = 0.011605547893478101\n",
      "0.0020521019886113293\n"
     ]
    }
   ],
   "source": [
    "# Establishing variabe pre_rates and post_rates as the nominal exchange rates pre and post Bretton Woods exit\n",
    "pre_rates = spain_data.iloc[1:139,1]\n",
    "post_rates = spain_data.iloc[139:,1]\n",
    "\n",
    "# Finding mean rates before and after exit\n",
    "pre_average = pre_rates.mean()\n",
    "post_average = post_rates.mean()\n",
    "print('Bretton Woods average = x1 = ' + str(pre_average))\n",
    "print('Post Bretton Woods average = x2 = ' + str(post_average))\n",
    "\n",
    "# Finding standard error, using the standard deviations found in part 5.3.3. These are valid as the exclusion of the 10 month period surrounding the exit, means that the two groups are independent.\n",
    "standard_error = (((0.013468**2)/132) + ((0.025096**2)/222))**(1/2)\n",
    "\n",
    "print(standard_error)"
   ]
  },
  {
   "cell_type": "markdown",
   "id": "ba34ef92",
   "metadata": {},
   "source": [
    "Null Hypothesis:\n",
    "Pre and Post exit averages are the same, or x1 - x2 = 0\n",
    "\n"
   ]
  },
  {
   "cell_type": "code",
   "execution_count": 4,
   "id": "1735828a",
   "metadata": {},
   "outputs": [
    {
     "name": "stdout",
     "output_type": "stream",
     "text": [
      "2.096374616827082\n"
     ]
    }
   ],
   "source": [
    "#finding observed difference in means\n",
    "difference = pre_average - post_average\n",
    "\n",
    "#finding number of standard errors from the mean of 0\n",
    "se_away = difference / standard_error\n",
    "\n",
    "print(se_away)"
   ]
  },
  {
   "cell_type": "markdown",
   "id": "a134164f",
   "metadata": {},
   "source": [
    "Being greater than 1.96 standard errors away from the null difference of 0, means that there is sufficient evidence to reject the null hypothesis or to say that the average nominal exchange rate changed after leaving Bretton Woods."
   ]
  }
 ],
 "metadata": {
  "kernelspec": {
   "display_name": "Python 3 (ipykernel)",
   "language": "python",
   "name": "python3"
  },
  "language_info": {
   "codemirror_mode": {
    "name": "ipython",
    "version": 3
   },
   "file_extension": ".py",
   "mimetype": "text/x-python",
   "name": "python",
   "nbconvert_exporter": "python",
   "pygments_lexer": "ipython3",
   "version": "3.9.13"
  }
 },
 "nbformat": 4,
 "nbformat_minor": 5
}
