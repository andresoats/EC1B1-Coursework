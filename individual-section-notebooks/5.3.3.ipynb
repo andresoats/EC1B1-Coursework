{
  "nbformat": 4,
  "nbformat_minor": 0,
  "metadata": {
    "colab": {
      "provenance": [],
      "include_colab_link": true
    },
    "kernelspec": {
      "name": "python3",
      "display_name": "Python 3"
    },
    "language_info": {
      "name": "python"
    }
  },
  "cells": [
    {
      "cell_type": "markdown",
      "metadata": {
        "id": "view-in-github",
        "colab_type": "text"
      },
      "source": [
        "<a href=\"https://colab.research.google.com/github/andresoats/EC1B1-Coursework/blob/main/5.3.3.ipynb\" target=\"_parent\"><img src=\"https://colab.research.google.com/assets/colab-badge.svg\" alt=\"Open In Colab\"/></a>"
      ]
    },
    {
      "cell_type": "code",
      "execution_count": null,
      "metadata": {
        "id": "CDF1I8KMEOBm"
      },
      "outputs": [],
      "source": [
        "# import the packages\n",
        "import pandas as pd\n",
        "import numpy as np\n",
        "import matplotlib.pyplot as plt\n",
        "import statistics"
      ]
    },
    {
      "cell_type": "code",
      "source": [
        "# import the data\n",
        "analysis_data = pd.read_excel('analysis_df.xlsx')"
      ],
      "metadata": {
        "id": "FdkWICTdEcHn"
      },
      "execution_count": null,
      "outputs": []
    },
    {
      "cell_type": "markdown",
      "source": [
        "Comparison Statistics\n",
        "\n",
        "Calculated below are the standard deviations of :\n",
        "\n",
        "1) The monthly growth rate of the nominal exchange rate versus the dollar\n",
        "\n",
        "2) The monthly growth rate of the real exchange rate versus the dollar\n",
        "\n",
        "3) The inflation rate in Spain\n",
        "\n",
        "4) The difference in the inflation rate in Spain versus the United States\n",
        "\n",
        "5) The 12 month industrial production growth\n",
        "\n",
        "For before and after Spain left the Bretton Woods (This excludes data from the 10 months directly before and after Spain left Bretton Woods)."
      ],
      "metadata": {
        "id": "aTeWuebHFtdK"
      }
    },
    {
      "cell_type": "code",
      "source": [
        "# The monthly growth rate of the nominal exchange rate versus the dollar before Spain left Bretton Woods\n",
        "nom_growth_rate = analysis_data['Spain Monthly Difference in Log Exchange Rate'].dropna()\n",
        "nom_growth_rate_before = nom_growth_rate[0:131]\n",
        "nominal_growth_rate_before_standard_deviation = statistics.stdev(nom_growth_rate_before)\n",
        "print(nominal_growth_rate_before_standard_deviation)\n",
        "\n",
        "# The monthly growth rate of the nominal exchange rate versus the dollar after Spain left Bretton Woods\n",
        "nom_growth_rate_after = nom_growth_rate[150:]\n",
        "nominal_growth_rate_after_standard_deviation = statistics.stdev(nom_growth_rate_after)\n",
        "print(nominal_growth_rate_after_standard_deviation)\n",
        "\n",
        "# The monthly growth rate of the real exchange rate versus the dollar before Spain left Bretton Woods\n",
        "real_growth_rate = analysis_data['Real Exchange Rate Growth'].dropna()\n",
        "real_growth_rate_before = real_growth_rate[0:131]\n",
        "real_growth_rate_before_standard_deviation = statistics.stdev(real_growth_rate_before)\n",
        "print(real_growth_rate_before_standard_deviation)\n",
        "\n",
        "# The monthly growth rate of the real exchange rate versus the dollar after Spain left Bretton Woods\n",
        "real_growth_rate_after = real_growth_rate[150:]\n",
        "real_growth_rate_after_standard_deviation = statistics.stdev(real_growth_rate_after)\n",
        "print(real_growth_rate_after_standard_deviation)\n",
        "\n",
        "# The inflation rate in Spain before leaving Bretton Woods\n",
        "inflation_rate = analysis_data['Spain Monthly Inflation Rate %'].dropna()\n",
        "inflation_rate_before = inflation_rate[0:131]\n",
        "inflation_rate_before_standard_deviation = statistics.stdev(inflation_rate_before)\n",
        "print(inflation_rate_before_standard_deviation)\n",
        "\n",
        "# The inflation rate in Spain after leaving Bretton Woods\n",
        "inflation_rate_after = inflation_rate[150:]\n",
        "inflation_rate_after_standard_deviation = statistics.stdev(inflation_rate_after)\n",
        "print(inflation_rate_after_standard_deviation)\n",
        "\n",
        "#Define the difference in Spain and the United State inflation rate\n",
        "united_states_monthly_inflation_rate = analysis_data['US Monthly Inflation Rate %'].dropna()\n",
        "difference_in_inflation = inflation_rate - united_states_monthly_inflation_rate\n",
        "\n",
        "# The difference in the inflation rate in Spain versus the United States before leaving Bretton Woods\n",
        "difference_in_inflation_before = difference_in_inflation[0:131]\n",
        "difference_in_inflation_before_standard_deviation = statistics.stdev(difference_in_inflation_before)\n",
        "print(difference_in_inflation_before_standard_deviation)\n",
        "\n",
        "# The difference in the inflation rate in Spain versus the United States after leaving Bretton Woods\n",
        "difference_in_inflation_after  = difference_in_inflation[150:]\n",
        "difference_in_inflation_after_standard_deviation = statistics.stdev(difference_in_inflation_after)\n",
        "print(difference_in_inflation_after_standard_deviation)\n",
        "\n",
        "# The 12 month industrial production growth before Spain left Bretton Woods\n",
        "tweleve_month_industrial_growth = analysis_data['Spain Growth in industrial production versus 12 months ago % change'].dropna()\n",
        "tweleve_month_industrial_growth_before = tweleve_month_industrial_growth[0:131]\n",
        "tweleve_month_industrial_growth_before_standard_deviation = statistics.stdev(tweleve_month_industrial_growth_before)\n",
        "print(tweleve_month_industrial_growth_before_standard_deviation)\n",
        "\n",
        "# The 12 month industrial production growth after Spain left Bretton Woods\n",
        "tweleve_month_industrial_growth_after = tweleve_month_industrial_growth[150:]\n",
        "tweleve_month_industrial_growth_after_standard_deviation = statistics.stdev(tweleve_month_industrial_growth_after)\n",
        "print(tweleve_month_industrial_growth_after_standard_deviation)"
      ],
      "metadata": {
        "id": "VopGiSVIF5O_",
        "colab": {
          "base_uri": "https://localhost:8080/"
        },
        "outputId": "15150857-5e52-45a3-e39c-bb66597b6c8d"
      },
      "execution_count": null,
      "outputs": [
        {
          "output_type": "stream",
          "name": "stdout",
          "text": [
            "0.013468207431669313\n",
            "0.025096479347442472\n",
            "0.016780001815567405\n",
            "0.02737543379327972\n",
            "0.73417391197788\n",
            "0.7356075179537354\n",
            "0.797628496943759\n",
            "0.742376650609303\n",
            "5.099472188242751\n",
            "4.544480962583523\n"
          ]
        }
      ]
    },
    {
      "cell_type": "code",
      "source": [
        "# Calculate the ratios of the standard deviations before and after, leaving the standard deviation before equal to 1\n",
        "ratio_nominal_growth_rate_versus_dollar = nominal_growth_rate_after_standard_deviation / nominal_growth_rate_before_standard_deviation\n",
        "print(ratio_nominal_growth_rate_versus_dollar)\n",
        "\n",
        "ratio_real_growth_rate_versus_dollar = real_growth_rate_after_standard_deviation / real_growth_rate_before_standard_deviation\n",
        "print(ratio_real_growth_rate_versus_dollar)\n",
        "\n",
        "ratio_inflation_rate = inflation_rate_after_standard_deviation / inflation_rate_before_standard_deviation\n",
        "print(ratio_inflation_rate)\n",
        "\n",
        "ratio_difference_in_inflation_rate = difference_in_inflation_after_standard_deviation / difference_in_inflation_before_standard_deviation\n",
        "print(ratio_difference_in_inflation_rate)\n",
        "\n",
        "ratio_tweleve_month_industrial_growth = tweleve_month_industrial_growth_after_standard_deviation / tweleve_month_industrial_growth_before_standard_deviation\n",
        "print(ratio_tweleve_month_industrial_growth)"
      ],
      "metadata": {
        "colab": {
          "base_uri": "https://localhost:8080/"
        },
        "id": "HQNY3vbuC4JY",
        "outputId": "e9731993-d6ed-4b1c-839a-e6a0578ad3e1"
      },
      "execution_count": null,
      "outputs": [
        {
          "output_type": "stream",
          "name": "stdout",
          "text": [
            "1.863386755421534\n",
            "1.6314321115199497\n",
            "1.001952678993991\n",
            "0.9307298491137638\n",
            "0.8911669276403144\n"
          ]
        }
      ]
    }
  ]
}
